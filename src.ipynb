{
 "cells": [
  {
   "cell_type": "code",
   "execution_count": null,
   "metadata": {},
   "outputs": [],
   "source": [
    "# Custom imports\n",
    "from preprocessing import prepare_dataset\n",
    "from engine import model_eval\n",
    "import helper_functions\n",
    "\n",
    "# Standard imports\n",
    "import matplotlib.pyplot as plt\n",
    "import numpy as np\n",
    "import pandas as pd\n",
    "import seaborn as sns"
   ]
  },
  {
   "cell_type": "markdown",
   "metadata": {},
   "source": [
    "## 0. Preprocessing"
   ]
  },
  {
   "cell_type": "code",
   "execution_count": null,
   "metadata": {},
   "outputs": [],
   "source": [
    "# Template data processing (generates `data/articles_topics_template.csv`)\n",
    "X_template, y_template = prepare_dataset(data_dir=\"data/\",\n",
    "                                      features=\"Standard\")"
   ]
  },
  {
   "cell_type": "code",
   "execution_count": null,
   "metadata": {},
   "outputs": [],
   "source": [
    "# Data processing with updated topics and articles mapped to regions\n",
    "# (generates `data/articles_topics_improved.csv` and `data/df_news_districted_improved.csv`)\n",
    "X_improved, y_improved = prepare_dataset(data_dir=\"data/\",\n",
    "                                      features=\"Improved\")"
   ]
  },
  {
   "cell_type": "markdown",
   "metadata": {},
   "source": [
    "## 1. Model Investigation"
   ]
  },
  {
   "cell_type": "markdown",
   "metadata": {},
   "source": [
    "### 1.1 Template model"
   ]
  },
  {
   "cell_type": "code",
   "execution_count": null,
   "metadata": {},
   "outputs": [],
   "source": [
    "# OLS model evaluation\n",
    "template_model = model_eval(X = X_template, y = y_template, model_type = \"OLS\")"
   ]
  },
  {
   "cell_type": "markdown",
   "metadata": {},
   "source": [
    "### 1.2 Ridge regression model"
   ]
  },
  {
   "cell_type": "code",
   "execution_count": null,
   "metadata": {},
   "outputs": [],
   "source": [
    "# Ridge regression model evaluation\n",
    "Ridge_model = model_eval(X = X_improved, y = y_improved, model_type = \"Ridge\")"
   ]
  },
  {
   "cell_type": "markdown",
   "metadata": {},
   "source": [
    "### 1.3 XGboost"
   ]
  },
  {
   "cell_type": "code",
   "execution_count": null,
   "metadata": {},
   "outputs": [],
   "source": [
    "# XGboost model evalutation\n",
    "xgboost_model = model_eval(X = X_improved, y = y_improved, model_type = \"XGboost\")"
   ]
  },
  {
   "cell_type": "markdown",
   "metadata": {},
   "source": [
    "### 1.4 NN default topics"
   ]
  },
  {
   "cell_type": "code",
   "execution_count": null,
   "metadata": {},
   "outputs": [],
   "source": [
    "## NN with default dataset evaluation\n",
    "NN_default_model, default_true_labels, default_predicted_probabilities, default_predicted_labels = model_eval(X = X_template,\n",
    "                                                                                                              y = y_template,\n",
    "                                                                                                              model_type = \"NN\")"
   ]
  },
  {
   "cell_type": "markdown",
   "metadata": {},
   "source": [
    "### 1.5 Final NN"
   ]
  },
  {
   "cell_type": "code",
   "execution_count": null,
   "metadata": {},
   "outputs": [],
   "source": [
    "## NN with new dataset evaluation\n",
    "NN_final_model, final_true_labels, final_predicted_probabilities, final_predicted_labels  = model_eval(X = X_improved,\n",
    "                                                                                                       y = y_improved,\n",
    "                                                                                                       model_type = \"NN\")"
   ]
  },
  {
   "cell_type": "markdown",
   "metadata": {},
   "source": [
    "## 2. Article Utilization"
   ]
  },
  {
   "cell_type": "code",
   "execution_count": null,
   "metadata": {},
   "outputs": [],
   "source": [
    "# Frequency of topics per IPC (only a subset of topics is selected to avoid clutteredness)\n",
    "helper_functions.articles_per_ipc(y_template)"
   ]
  },
  {
   "cell_type": "code",
   "execution_count": null,
   "metadata": {},
   "outputs": [],
   "source": [
    "# Distribution of articles per 64 regions in South Sudan\n",
    "# Articles not assigned to a region are classified as \"Not Assigned\"\n",
    "# Articles with share 2.0% or less are classified as \"Other regions\"\n",
    "\n",
    "helper_functions.articles_per_region()"
   ]
  },
  {
   "cell_type": "markdown",
   "metadata": {},
   "source": [
    "## 3. Bias Reduction"
   ]
  },
  {
   "cell_type": "code",
   "execution_count": null,
   "metadata": {},
   "outputs": [],
   "source": [
    "# Distribtion of Final NN confidence\n",
    "\n",
    "predict_prob_list = np.ndarray(len(final_predicted_probabilities))\n",
    "predict_class_list = np.ndarray(len(final_predicted_probabilities))\n",
    "\n",
    "for i in range(len(final_predicted_probabilities)):\n",
    "    if i % 10 == 0:\n",
    "        print()\n",
    "    predict_prob_list[i] = final_predicted_probabilities[i].max()\n",
    "\n",
    "df_confidence = pd.DataFrame({'true_val': final_true_labels, 'pred_val': final_predicted_labels, 'pred_prob': predict_prob_list})\n",
    "df_confidence = df_confidence[(df_confidence['pred_prob'] > 0) & (df_confidence['pred_prob'] < 1)]\n",
    "\n",
    "# Set the figure size\n",
    "plt.figure(figsize=(9, 5))  # Adjust the width and height as needed\n",
    "# Create your histogram plot\n",
    "sns.histplot(df_confidence['pred_prob'], bins=[i/10 for i in range(11)], kde=True)\n",
    "\n",
    "# Add xlabel, ylabel, and title\n",
    "plt.xlabel('Model Confidence')\n",
    "plt.ylabel('Count')\n",
    "plt.title('Model Confidence Distribution')\n",
    "\n",
    "# Update the x-axis tick labels to display every 20%\n",
    "x_ticks = [i/5 for i in range(6)]  # 0.0, 0.2, 0.4, 0.6, 0.8, 1.0\n",
    "x_labels = [f'{int(x*100)}%' for x in x_ticks]\n",
    "plt.xticks(x_ticks, x_labels)\n",
    "# Display the plot\n",
    "plt.show()"
   ]
  },
  {
   "cell_type": "code",
   "execution_count": null,
   "metadata": {},
   "outputs": [],
   "source": [
    "# Final NN mean accuracy per various ranges of model confidence\n",
    "\n",
    "# Define the probability ranges\n",
    "probability_ranges = [(1.0, 0.9), (0.9, 0.8), (0.8, 0.7), (0.7, 0.6), (0.6, 0.5), (0.5, 0.4), (0.4, 0.3), (0.3, 0.0)]\n",
    "\n",
    "# Calculate accuracy for each probability range\n",
    "accuracies = []\n",
    "for range_start, range_end in probability_ranges:\n",
    "    subset = df_confidence[(df_confidence['pred_prob'] >= range_end) & (df_confidence['pred_prob'] <= range_start)]\n",
    "    if len(subset) > 0:\n",
    "        accuracy = np.sum(subset['true_val'] == subset['pred_val']) / len(subset)\n",
    "        accuracies.append(accuracy)\n",
    "    else:\n",
    "        accuracies.append(0.0)\n",
    "\n",
    "# Create the histogram\n",
    "plt.figure(figsize=(8, 4))\n",
    "plt.barh([f\"{int(range_end*100)}% - {int(range_start*100)}%\" for range_start, range_end in probability_ranges], accuracies)\n",
    "plt.xlabel('Average Accuracy')\n",
    "plt.ylabel('Prediction Probability Range')\n",
    "plt.title('Average Accuracy against Prediction Probability Range')\n",
    "plt.xlim(0, 1)\n",
    "\n",
    "# Define a function to format the x-axis ticks as percentages\n",
    "def percentage_formatter(x, pos):\n",
    "    return f\"{int(x * 100)}%\"\n",
    "\n",
    "# Modify the x-axis ticks to display as percentages\n",
    "x_ticks_percentages = [f\"{int(x*100)}%\" for x in plt.xticks()[0]]\n",
    "plt.xticks(plt.xticks()[0], x_ticks_percentages)\n",
    "plt.show()"
   ]
  }
 ],
 "metadata": {
  "kernelspec": {
   "display_name": "Python 3",
   "language": "python",
   "name": "python3"
  },
  "language_info": {
   "codemirror_mode": {
    "name": "ipython",
    "version": 3
   },
   "file_extension": ".py",
   "mimetype": "text/x-python",
   "name": "python",
   "nbconvert_exporter": "python",
   "pygments_lexer": "ipython3",
   "version": "3.10.12"
  }
 },
 "nbformat": 4,
 "nbformat_minor": 2
}
